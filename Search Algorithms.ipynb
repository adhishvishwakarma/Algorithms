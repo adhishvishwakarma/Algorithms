{
 "cells": [
  {
   "cell_type": "markdown",
   "metadata": {
    "collapsed": true
   },
   "source": [
    "## Search Algorithms in Python\n",
    "<hr>\n",
    "\n",
    "### Linear Search\n",
    "\n",
    "#### Linear Search algorithm sequentially searches all items one by one. Every item is checked and if a match is found then that particular item is returned, otherwise the search continues till the end.\n",
    "\n",
    "**Steps followed in algorithm.**\n",
    "1. Start with the first item in the list.\n",
    "2. Compare the current item to the target\n",
    "3. If the current value matches the target, return the index and stop.\n",
    "4. If the current value is less than the target then set the current item to be the next item and repeat from 2.\n",
    "5. If the target is not present in the array, return -1.\n",
    "    \n",
    "**Time Complexity:**\n",
    "\n",
    "The time complexity of the linear search is O(N) because in worst case each of the element is compared atleast once.\n",
    "\n",
    "**Implementation:**"
   ]
  },
  {
   "cell_type": "code",
   "execution_count": 20,
   "metadata": {},
   "outputs": [
    {
     "name": "stdout",
     "output_type": "stream",
     "text": [
      "Printing the index of 54:  5\n",
      "Printing the inde of 2:  1\n",
      "Printing -1 as 10 is not present in the array:  -1\n"
     ]
    }
   ],
   "source": [
    "l = [1, 2, 3, 6, 23, 54, 55]\n",
    "\n",
    "def linear_search(array, target):\n",
    "    for i in range(len(array)):\n",
    "        if array[i] == target:\n",
    "            return i\n",
    "    return -1\n",
    "\n",
    "print ('Printing the index of 54: ', linear_search(l, 54))\n",
    "print ('Printing the inde of 2: ', linear_search(l, 2))\n",
    "print ('Printing -1 as 10 is not present in the array: ', linear_search(l, 10))"
   ]
  },
  {
   "cell_type": "markdown",
   "metadata": {},
   "source": [
    "<hr>\n",
    "### Binary Search\n",
    "\n",
    "#### In order to reduce the complexity from O(n) of Linear search, Binary search came into the picture. \n",
    "\n",
    "\n",
    "#### Implementation of Binary Search with recursion:"
   ]
  },
  {
   "cell_type": "code",
   "execution_count": 21,
   "metadata": {},
   "outputs": [
    {
     "name": "stdout",
     "output_type": "stream",
     "text": [
      "3\n"
     ]
    }
   ],
   "source": [
    "def binary_search_recursion(sorted_array, target, start, end):\n",
    "    if end >= start:\n",
    "        mid = end + (start - end) // 2\n",
    "        if sorted_array[mid] == target:\n",
    "            return mid\n",
    "        elif sorted_array[mid] > target:\n",
    "            return binary_search_recursion(sorted_array, target, start, mid -1)\n",
    "        elif sorted_array[mid] < target:\n",
    "            return binary_search_recursion(sorted_array, target, mid+1, end)\n",
    "    else:\n",
    "        return -1\n",
    "    \n",
    "l = [1, 2, 3, 6, 23, 54, 55]\n",
    "print (binary_search_recursion(l, 6, 0, len(l)-1))"
   ]
  },
  {
   "cell_type": "markdown",
   "metadata": {},
   "source": [
    "#### Implementation of Binary Search without recursion:"
   ]
  },
  {
   "cell_type": "code",
   "execution_count": 22,
   "metadata": {},
   "outputs": [
    {
     "name": "stdout",
     "output_type": "stream",
     "text": [
      "4\n"
     ]
    }
   ],
   "source": [
    "def binary_search(sorted_array, target, start, end):\n",
    "    while end >= start:\n",
    "        mid = end + (start - end) // 2\n",
    "        if sorted_array[mid] == target:\n",
    "            return mid\n",
    "        else:\n",
    "            if sorted_array[mid] > target:\n",
    "                end = mid -1\n",
    "            elif sorted_array[mid] < target:\n",
    "                start = mid + 1\n",
    "    return -1\n",
    "\n",
    "l = [1, 2, 3, 6, 23, 54, 55]\n",
    "print (binary_search_recursion(l, 23, 0, len(l)-1))"
   ]
  },
  {
   "cell_type": "markdown",
   "metadata": {},
   "source": [
    "<hr>\n",
    "### Jump Search\n",
    "\n",
    "#### Jump Search is a searching algorithm for sorted arrays. The basic idea is to check fewer elements (than linear search) by jumping ahead by fixed steps or skipping some elements in place of searching all elements.\n",
    "\n",
    "For example, suppose we have an array arr[] of size n and block (to be jumped) size m. Then we search at the indexes arr[0], arr[m], arr[2m]…..arr[km] and so on. Once we find the interval (arr[km] < x < arr[(k+1)m]), we perform a linear search operation from the index km to find the element x.\n",
    "\n",
    "** Jump Size: **\n",
    "The optimal size of a block to be jumped is (√n). In the worst case, we have to do n/m jumps and if the last checked value is greater than the element to be searched for, we perform m-1 comparisons more for linear search. Therefore the total number of comparisons in the worst case will be ((n/m) + m-1). The value of the function ((n/m) + m-1) will be minimum when m = √n. Therefore, the best step size is m = √n.\n",
    "\n",
    "**Time Complexity: **\n",
    "This makes the time complexity of Jump Search O(√n). The time complexity of Jump Search is between Linear Search ( ( O(n) ) and Binary Search ( O(Log n) ).\n",
    "\n",
    "** Binary Search vs Jump Search: **\n",
    "Binary Search is better than Jump Search, but Jump search has an advantage that we traverse back only once (Binary Search may require up to O(Log n) jumps, consider a situation where the element to be search is the smallest element or smaller than the smallest). So in a systems where jumping back is costly, we use Jump Search."
   ]
  },
  {
   "cell_type": "code",
   "execution_count": 2,
   "metadata": {},
   "outputs": [
    {
     "data": {
      "text/plain": [
       "-1"
      ]
     },
     "execution_count": 2,
     "metadata": {},
     "output_type": "execute_result"
    }
   ],
   "source": [
    "import math\n",
    "\n",
    "def linear_search(array, target):\n",
    "    for i in range(len(array)):\n",
    "        if array[i] == target:\n",
    "            return i\n",
    "    return \"not found\"\n",
    "\n",
    "def jump_search(sorted_array, target):\n",
    "    length = len(sorted_array)\n",
    "    step = math.floor(math.sqrt(length))\n",
    "    start = 0\n",
    "    end = step\n",
    "    while sorted_array[min(end, length)-1] < target:\n",
    "        start = end\n",
    "        end = end + step\n",
    "        if start >= length:\n",
    "            return -1\n",
    "    try: \n",
    "        return start + linear_search(sorted_array[start:end], target)\n",
    "    except:\n",
    "        return -1\n",
    "\n",
    "l = [0, 1, 1, 2, 3, 5, 8, 13, 21, 34, 55, 89, 144, 233, 377, 610]\n",
    "\n",
    "jump_search(l,50)"
   ]
  },
  {
   "cell_type": "markdown",
   "metadata": {},
   "source": [
    "### Exponential Search\n",
    "\n",
    "**Exponential search consists of two parts:** \n",
    "1. We need to start comparing target value with the first element, if not matched then start comparing the values whose indexes are multiples of 2 like 2, 4, 8, 16 and so on, until the last element of subarray is not greater. Once we find an index after repeated doubling of indexes, we know that the element must be inside i/2 and i where i is the index which is greater than the target element.\n",
    "2. Do Binary Search in above found range i.e. between i/2 and i.\n",
    "\n",
    "**Applications of Exponential Search** :\n",
    "1. Exponential Binary Search is particularly useful for unbounded searches, where size of array is infinite.\n",
    "2. It works better than Binary Search for bounded arrays also when the element to be searched is closer to the first element.\n",
    "\n",
    "**Time Complexity** : O(Log n)\n",
    "\n",
    "**Auxiliary Space** : The above implementation of Binary Search is recursive and requires O(Log n) space. With iterative Binary Search, we need only O(1) space.\n",
    "\n",
    "**Implementation**:"
   ]
  },
  {
   "cell_type": "code",
   "execution_count": 30,
   "metadata": {},
   "outputs": [
    {
     "name": "stdout",
     "output_type": "stream",
     "text": [
      "4\n"
     ]
    }
   ],
   "source": [
    "def binary_search_recursion(sorted_array, target, start, end):\n",
    "    if end >= start:\n",
    "        mid = end + (start - end) // 2\n",
    "        if sorted_array[mid] == target:\n",
    "            return mid\n",
    "        elif sorted_array[mid] > target:\n",
    "            return binary_search_recursion(sorted_array, target, start, mid-1)\n",
    "        elif sorted_array[mid] < target:\n",
    "            return binary_search_recursion(sorted_array, target,mid+1, end)\n",
    "    else:\n",
    "        return -1\n",
    "\n",
    "def exponential_search(sorted_array, target, length):\n",
    "    if sorted_array[0] == target:\n",
    "        return 0\n",
    "    i = 1\n",
    "    while i < length and sorted_array[i] < target:\n",
    "        i = i * 2\n",
    "    return binary_search_recursion(sorted_array, target, int(i/2), min(i, length))\n",
    "\n",
    "l = [1, 2, 3, 6, 23, 54, 55]\n",
    "print (exponential_search(l, 23, len(l)))"
   ]
  },
  {
   "cell_type": "markdown",
   "metadata": {},
   "source": [
    "<hr>\n",
    "### Interpolation Search\n",
    "\n",
    "#### Interpolation search is a search algorithm which is closer to how humans searches for a word in dictionary, Interpolation search with the help of below formula tries to predict the closest value based on the elements present in the sorted data callection. Since it uses elements inside the data collection, it works much better if the data collection is sorted and uniformed.\n",
    "\n",
    "\\begin{equation*}\n",
    "start +  \\frac{(target-sortedarray[start] * (end-start)}{(sortedarray[end]-sortedarray[start])}\n",
    "\\end{equation*}\n",
    "\n",
    "\n",
    "**Steps: **\n",
    "1. In a loop, calculate the value of “pos” using the probe position formula.\n",
    "2. If it is a match, return the index of the item, and exit.\n",
    "3. If the item is less than arr[pos], calculate the probe position of the left sub-array. Otherwise calculate the same in the right sub-array.\n",
    "4. Repeat until a match is found or the sub-array reduces to zero.\n",
    "\n",
    "**Time Complexity **: \n",
    "If elements are uniformly distributed, then O (log log n)). In worst case it can take upto O(n).\n",
    "\n",
    "**Auxiliary Space **: \n",
    "O(1)\n",
    "\n",
    "**Binary vs Interpolation: **\n",
    "On average the interpolation search makes about log(log(n)) comparisons (if the elements are uniformly distributed), where n is the number of elements to be searched. In the worst case (for instance where the numerical values of the keys increase exponentially) it can make up to O(n) comparisons."
   ]
  },
  {
   "cell_type": "code",
   "execution_count": 4,
   "metadata": {},
   "outputs": [
    {
     "data": {
      "text/plain": [
       "12"
      ]
     },
     "execution_count": 4,
     "metadata": {},
     "output_type": "execute_result"
    }
   ],
   "source": [
    "def interpolation_search(sorted_array, target, start, end):\n",
    "    while end >= start and target >= sorted_array[start] and target <= sorted_array[end]:\n",
    "        pos = start + int((target-sorted_array[start]) * (end-start) / (sorted_array[end]-sorted_array[start]))\n",
    "        if target == sorted_array[pos]:\n",
    "            return pos\n",
    "        else:\n",
    "            if target < sorted_array[pos]:\n",
    "                end = pos - 1\n",
    "            elif target > sorted_array[pos]:\n",
    "                start = pos + 1\n",
    "    return -1\n",
    "\n",
    "l = [10, 12, 13, 16, 18, 19, 20, 21, 22, 23, 24, 33, 35, 42, 47]\n",
    "interpolation_search(l, 35, 0, len(l)-1)"
   ]
  }
 ],
 "metadata": {
  "kernelspec": {
   "display_name": "Python 3",
   "language": "python",
   "name": "python3"
  },
  "language_info": {
   "codemirror_mode": {
    "name": "ipython",
    "version": 3
   },
   "file_extension": ".py",
   "mimetype": "text/x-python",
   "name": "python",
   "nbconvert_exporter": "python",
   "pygments_lexer": "ipython3",
   "version": "3.6.2"
  }
 },
 "nbformat": 4,
 "nbformat_minor": 2
}
