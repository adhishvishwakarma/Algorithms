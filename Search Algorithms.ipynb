{
 "cells": [
  {
   "cell_type": "markdown",
   "metadata": {
    "collapsed": true
   },
   "source": [
    "## Search Algorithms in Python\n",
    "<hr>\n",
    "\n",
    "### Linear Search\n",
    "\n",
    "#### Linear Search algorithm sequentially searches all items one by one. Every item is checked and if a match is found then that particular item is returned, otherwise the search continues till the end.\n",
    "\n",
    "**Steps followed in algorithm.**\n",
    "1. Start with the first item in the list.\n",
    "2. Compare the current item to the target\n",
    "3. If the current value matches the target, return the index and stop.\n",
    "4. If the current value is less than the target then set the current item to be the next item and repeat from 2.\n",
    "5. If the target is not present in the array, return -1.\n",
    "    \n",
    "**Time Complexity:**\n",
    "\n",
    "The time complexity of the linear search is O(N) because in worst case each of the element is compared atleast once.\n",
    "\n",
    "**Implementation:**"
   ]
  },
  {
   "cell_type": "code",
   "execution_count": 20,
   "metadata": {},
   "outputs": [
    {
     "name": "stdout",
     "output_type": "stream",
     "text": [
      "Printing the index of 54:  5\n",
      "Printing the inde of 2:  1\n",
      "Printing -1 as 10 is not present in the array:  -1\n"
     ]
    }
   ],
   "source": [
    "l = [1, 2, 3, 6, 23, 54, 55]\n",
    "\n",
    "def linear_search(array, target):\n",
    "    for i in range(len(array)):\n",
    "        if array[i] == target:\n",
    "            return i\n",
    "    return -1\n",
    "\n",
    "print ('Printing the index of 54: ', linear_search(l, 54))\n",
    "print ('Printing the inde of 2: ', linear_search(l, 2))\n",
    "print ('Printing -1 as 10 is not present in the array: ', linear_search(l, 10))"
   ]
  },
  {
   "cell_type": "markdown",
   "metadata": {},
   "source": [
    "<hr>\n",
    "### Binary Search\n",
    "\n",
    "#### In order to reduce the complexity from O(n) of Linear search, Binary search came into the picture. \n",
    "\n",
    "\n",
    "#### Implementation of Binary Search with recursion:"
   ]
  },
  {
   "cell_type": "code",
   "execution_count": 21,
   "metadata": {},
   "outputs": [
    {
     "name": "stdout",
     "output_type": "stream",
     "text": [
      "3\n"
     ]
    }
   ],
   "source": [
    "def binary_search_recursion(sorted_array, target, start, end):\n",
    "    if end >= start:\n",
    "        mid = end + (start - end) // 2\n",
    "        if sorted_array[mid] == target:\n",
    "            return mid\n",
    "        elif sorted_array[mid] > target:\n",
    "            return binary_search_recursion(sorted_array, target, start, mid -1)\n",
    "        elif sorted_array[mid] < target:\n",
    "            return binary_search_recursion(sorted_array, target, mid+1, end)\n",
    "    else:\n",
    "        return -1\n",
    "    \n",
    "l = [1, 2, 3, 6, 23, 54, 55]\n",
    "print (binary_search_recursion(l, 6, 0, len(l)-1))"
   ]
  },
  {
   "cell_type": "markdown",
   "metadata": {},
   "source": [
    "#### Implementation of Binary Search without recursion:"
   ]
  },
  {
   "cell_type": "code",
   "execution_count": 22,
   "metadata": {},
   "outputs": [
    {
     "name": "stdout",
     "output_type": "stream",
     "text": [
      "4\n"
     ]
    }
   ],
   "source": [
    "def binary_search(sorted_array, target, start, end):\n",
    "    while end >= start:\n",
    "        mid = end + (start - end) // 2\n",
    "        if sorted_array[mid] == target:\n",
    "            return mid\n",
    "        else:\n",
    "            if sorted_array[mid] > target:\n",
    "                end = mid -1\n",
    "            elif sorted_array[mid] < target:\n",
    "                start = mid + 1\n",
    "    return -1\n",
    "\n",
    "l = [1, 2, 3, 6, 23, 54, 55]\n",
    "print (binary_search_recursion(l, 23, 0, len(l)-1))"
   ]
  },
  {
   "cell_type": "markdown",
   "metadata": {},
   "source": [
    "### Exponential Search\n",
    "\n",
    "**Exponential search consists of two parts:** \n",
    "1. We need to start comparing target value with the first element, if not matched then start comparing the values whose indexes are multiples of 2 like 2, 4, 8, 16 and so on, until the last element of subarray is not greater. Once we find an index after repeated doubling of indexes, we know that the element must be inside i/2 and i where i is the index which is greater than the target element.\n",
    "2. Do Binary Search in above found range i.e. between i/2 and i.\n",
    "\n",
    "**Applications of Exponential Search** :\n",
    "1. Exponential Binary Search is particularly useful for unbounded searches, where size of array is infinite.\n",
    "2. It works better than Binary Search for bounded arrays also when the element to be searched is closer to the first element.\n",
    "\n",
    "**Time Complexity** : O(Log n)\n",
    "\n",
    "**Auxiliary Space** : The above implementation of Binary Search is recursive and requires O(Log n) space. With iterative Binary Search, we need only O(1) space.\n",
    "\n",
    "**Implementation**:"
   ]
  },
  {
   "cell_type": "code",
   "execution_count": 30,
   "metadata": {},
   "outputs": [
    {
     "name": "stdout",
     "output_type": "stream",
     "text": [
      "4\n"
     ]
    }
   ],
   "source": [
    "def binary_search_recursion(sorted_array, target, start, end):\n",
    "    if end >= start:\n",
    "        mid = end + (start - end) // 2\n",
    "        if sorted_array[mid] == target:\n",
    "            return mid\n",
    "        elif sorted_array[mid] > target:\n",
    "            return binary_search_recursion(sorted_array, target, start, mid-1)\n",
    "        elif sorted_array[mid] < target:\n",
    "            return binary_search_recursion(sorted_array, target,mid+1, end)\n",
    "    else:\n",
    "        return -1\n",
    "\n",
    "def exponential_search(sorted_array, target, length):\n",
    "    if sorted_array[0] == target:\n",
    "        return 0\n",
    "    i = 1\n",
    "    while i < length and sorted_array[i] < target:\n",
    "        i = i * 2\n",
    "    return binary_search_recursion(sorted_array, target, int(i/2), min(i, length))\n",
    "\n",
    "l = [1, 2, 3, 6, 23, 54, 55]\n",
    "print (exponential_search(l, 23, len(l)))"
   ]
  }
 ],
 "metadata": {
  "kernelspec": {
   "display_name": "Python 3",
   "language": "python",
   "name": "python3"
  },
  "language_info": {
   "codemirror_mode": {
    "name": "ipython",
    "version": 3
   },
   "file_extension": ".py",
   "mimetype": "text/x-python",
   "name": "python",
   "nbconvert_exporter": "python",
   "pygments_lexer": "ipython3",
   "version": "3.6.2"
  }
 },
 "nbformat": 4,
 "nbformat_minor": 2
}
